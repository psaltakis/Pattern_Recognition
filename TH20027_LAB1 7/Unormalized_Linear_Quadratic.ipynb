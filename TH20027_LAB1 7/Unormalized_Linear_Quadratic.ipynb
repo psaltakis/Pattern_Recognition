{
 "cells": [
  {
   "cell_type": "markdown",
   "id": "76971120",
   "metadata": {},
   "source": [
    "PSALTAKIS GEORGIOS TH20027 EXERCISE 1 PATTERN RECOGNITION"
   ]
  },
  {
   "cell_type": "markdown",
   "id": "539e036f",
   "metadata": {},
   "source": [
    "Question 5-6"
   ]
  },
  {
   "cell_type": "code",
   "execution_count": 1,
   "id": "822d93c5",
   "metadata": {},
   "outputs": [],
   "source": [
    "import numpy as np \n",
    "import pandas as pd \n",
    "import matplotlib.pyplot as plt\n",
    "from sklearn import datasets, preprocessing\n",
    "from sklearn.model_selection import train_test_split\n",
    "from sklearn.model_selection import cross_val_score\n",
    "from sklearn import svm\n",
    "from sklearn import preprocessing, model_selection, neighbors, discriminant_analysis\n",
    "from sklearn.discriminant_analysis import LinearDiscriminantAnalysis\n",
    "from sklearn.discriminant_analysis import QuadraticDiscriminantAnalysis\n",
    "from sklearn import datasets, linear_model\n",
    "from sklearn.model_selection import train_test_split\n",
    "from matplotlib import pyplot as plt"
   ]
  },
  {
   "cell_type": "code",
   "execution_count": 2,
   "id": "965b029c",
   "metadata": {},
   "outputs": [
    {
     "data": {
      "text/html": [
       "<div>\n",
       "<style scoped>\n",
       "    .dataframe tbody tr th:only-of-type {\n",
       "        vertical-align: middle;\n",
       "    }\n",
       "\n",
       "    .dataframe tbody tr th {\n",
       "        vertical-align: top;\n",
       "    }\n",
       "\n",
       "    .dataframe thead th {\n",
       "        text-align: right;\n",
       "    }\n",
       "</style>\n",
       "<table border=\"1\" class=\"dataframe\">\n",
       "  <thead>\n",
       "    <tr style=\"text-align: right;\">\n",
       "      <th></th>\n",
       "      <th>Id</th>\n",
       "      <th>Ri</th>\n",
       "      <th>Na</th>\n",
       "      <th>Mg</th>\n",
       "      <th>Al</th>\n",
       "      <th>Si</th>\n",
       "      <th>K</th>\n",
       "      <th>Ca</th>\n",
       "      <th>Ba</th>\n",
       "      <th>Fe</th>\n",
       "      <th>Type</th>\n",
       "    </tr>\n",
       "  </thead>\n",
       "  <tbody>\n",
       "    <tr>\n",
       "      <th>0</th>\n",
       "      <td>1</td>\n",
       "      <td>1.52101</td>\n",
       "      <td>13.64</td>\n",
       "      <td>4.49</td>\n",
       "      <td>1.10</td>\n",
       "      <td>71.78</td>\n",
       "      <td>0.06</td>\n",
       "      <td>8.75</td>\n",
       "      <td>0.00</td>\n",
       "      <td>0.0</td>\n",
       "      <td>1</td>\n",
       "    </tr>\n",
       "    <tr>\n",
       "      <th>1</th>\n",
       "      <td>2</td>\n",
       "      <td>1.51761</td>\n",
       "      <td>13.89</td>\n",
       "      <td>3.60</td>\n",
       "      <td>1.36</td>\n",
       "      <td>72.73</td>\n",
       "      <td>0.48</td>\n",
       "      <td>7.83</td>\n",
       "      <td>0.00</td>\n",
       "      <td>0.0</td>\n",
       "      <td>1</td>\n",
       "    </tr>\n",
       "    <tr>\n",
       "      <th>2</th>\n",
       "      <td>3</td>\n",
       "      <td>1.51618</td>\n",
       "      <td>13.53</td>\n",
       "      <td>3.55</td>\n",
       "      <td>1.54</td>\n",
       "      <td>72.99</td>\n",
       "      <td>0.39</td>\n",
       "      <td>7.78</td>\n",
       "      <td>0.00</td>\n",
       "      <td>0.0</td>\n",
       "      <td>1</td>\n",
       "    </tr>\n",
       "    <tr>\n",
       "      <th>3</th>\n",
       "      <td>4</td>\n",
       "      <td>1.51766</td>\n",
       "      <td>13.21</td>\n",
       "      <td>3.69</td>\n",
       "      <td>1.29</td>\n",
       "      <td>72.61</td>\n",
       "      <td>0.57</td>\n",
       "      <td>8.22</td>\n",
       "      <td>0.00</td>\n",
       "      <td>0.0</td>\n",
       "      <td>1</td>\n",
       "    </tr>\n",
       "    <tr>\n",
       "      <th>4</th>\n",
       "      <td>5</td>\n",
       "      <td>1.51742</td>\n",
       "      <td>13.27</td>\n",
       "      <td>3.62</td>\n",
       "      <td>1.24</td>\n",
       "      <td>73.08</td>\n",
       "      <td>0.55</td>\n",
       "      <td>8.07</td>\n",
       "      <td>0.00</td>\n",
       "      <td>0.0</td>\n",
       "      <td>1</td>\n",
       "    </tr>\n",
       "    <tr>\n",
       "      <th>...</th>\n",
       "      <td>...</td>\n",
       "      <td>...</td>\n",
       "      <td>...</td>\n",
       "      <td>...</td>\n",
       "      <td>...</td>\n",
       "      <td>...</td>\n",
       "      <td>...</td>\n",
       "      <td>...</td>\n",
       "      <td>...</td>\n",
       "      <td>...</td>\n",
       "      <td>...</td>\n",
       "    </tr>\n",
       "    <tr>\n",
       "      <th>209</th>\n",
       "      <td>210</td>\n",
       "      <td>1.51623</td>\n",
       "      <td>14.14</td>\n",
       "      <td>0.00</td>\n",
       "      <td>2.88</td>\n",
       "      <td>72.61</td>\n",
       "      <td>0.08</td>\n",
       "      <td>9.18</td>\n",
       "      <td>1.06</td>\n",
       "      <td>0.0</td>\n",
       "      <td>7</td>\n",
       "    </tr>\n",
       "    <tr>\n",
       "      <th>210</th>\n",
       "      <td>211</td>\n",
       "      <td>1.51685</td>\n",
       "      <td>14.92</td>\n",
       "      <td>0.00</td>\n",
       "      <td>1.99</td>\n",
       "      <td>73.06</td>\n",
       "      <td>0.00</td>\n",
       "      <td>8.40</td>\n",
       "      <td>1.59</td>\n",
       "      <td>0.0</td>\n",
       "      <td>7</td>\n",
       "    </tr>\n",
       "    <tr>\n",
       "      <th>211</th>\n",
       "      <td>212</td>\n",
       "      <td>1.52065</td>\n",
       "      <td>14.36</td>\n",
       "      <td>0.00</td>\n",
       "      <td>2.02</td>\n",
       "      <td>73.42</td>\n",
       "      <td>0.00</td>\n",
       "      <td>8.44</td>\n",
       "      <td>1.64</td>\n",
       "      <td>0.0</td>\n",
       "      <td>7</td>\n",
       "    </tr>\n",
       "    <tr>\n",
       "      <th>212</th>\n",
       "      <td>213</td>\n",
       "      <td>1.51651</td>\n",
       "      <td>14.38</td>\n",
       "      <td>0.00</td>\n",
       "      <td>1.94</td>\n",
       "      <td>73.61</td>\n",
       "      <td>0.00</td>\n",
       "      <td>8.48</td>\n",
       "      <td>1.57</td>\n",
       "      <td>0.0</td>\n",
       "      <td>7</td>\n",
       "    </tr>\n",
       "    <tr>\n",
       "      <th>213</th>\n",
       "      <td>214</td>\n",
       "      <td>1.51711</td>\n",
       "      <td>14.23</td>\n",
       "      <td>0.00</td>\n",
       "      <td>2.08</td>\n",
       "      <td>73.36</td>\n",
       "      <td>0.00</td>\n",
       "      <td>8.62</td>\n",
       "      <td>1.67</td>\n",
       "      <td>0.0</td>\n",
       "      <td>7</td>\n",
       "    </tr>\n",
       "  </tbody>\n",
       "</table>\n",
       "<p>214 rows × 11 columns</p>\n",
       "</div>"
      ],
      "text/plain": [
       "      Id       Ri     Na    Mg    Al     Si     K    Ca    Ba   Fe  Type\n",
       "0      1  1.52101  13.64  4.49  1.10  71.78  0.06  8.75  0.00  0.0     1\n",
       "1      2  1.51761  13.89  3.60  1.36  72.73  0.48  7.83  0.00  0.0     1\n",
       "2      3  1.51618  13.53  3.55  1.54  72.99  0.39  7.78  0.00  0.0     1\n",
       "3      4  1.51766  13.21  3.69  1.29  72.61  0.57  8.22  0.00  0.0     1\n",
       "4      5  1.51742  13.27  3.62  1.24  73.08  0.55  8.07  0.00  0.0     1\n",
       "..   ...      ...    ...   ...   ...    ...   ...   ...   ...  ...   ...\n",
       "209  210  1.51623  14.14  0.00  2.88  72.61  0.08  9.18  1.06  0.0     7\n",
       "210  211  1.51685  14.92  0.00  1.99  73.06  0.00  8.40  1.59  0.0     7\n",
       "211  212  1.52065  14.36  0.00  2.02  73.42  0.00  8.44  1.64  0.0     7\n",
       "212  213  1.51651  14.38  0.00  1.94  73.61  0.00  8.48  1.57  0.0     7\n",
       "213  214  1.51711  14.23  0.00  2.08  73.36  0.00  8.62  1.67  0.0     7\n",
       "\n",
       "[214 rows x 11 columns]"
      ]
     },
     "execution_count": 2,
     "metadata": {},
     "output_type": "execute_result"
    }
   ],
   "source": [
    "file = (\"glass.data\")\n",
    "df = pd.read_csv(file,delim_whitespace=False, header=None)\n",
    "columns = [\"Id\", \"Ri\", \"Na\", \"Mg\", \"Al\", \"Si\", \"K\", \"Ca\", \"Ba\", \"Fe\", \"Type\"]\n",
    "df.columns = columns \n",
    "df"
   ]
  },
  {
   "cell_type": "code",
   "execution_count": 3,
   "id": "1fa4b194",
   "metadata": {},
   "outputs": [
    {
     "data": {
      "text/plain": [
       "(          Ri     Na    Mg    Al     Si     K    Ca    Ba   Fe\n",
       " 0    1.52101  13.64  4.49  1.10  71.78  0.06  8.75  0.00  0.0\n",
       " 1    1.51761  13.89  3.60  1.36  72.73  0.48  7.83  0.00  0.0\n",
       " 2    1.51618  13.53  3.55  1.54  72.99  0.39  7.78  0.00  0.0\n",
       " 3    1.51766  13.21  3.69  1.29  72.61  0.57  8.22  0.00  0.0\n",
       " 4    1.51742  13.27  3.62  1.24  73.08  0.55  8.07  0.00  0.0\n",
       " ..       ...    ...   ...   ...    ...   ...   ...   ...  ...\n",
       " 209  1.51623  14.14  0.00  2.88  72.61  0.08  9.18  1.06  0.0\n",
       " 210  1.51685  14.92  0.00  1.99  73.06  0.00  8.40  1.59  0.0\n",
       " 211  1.52065  14.36  0.00  2.02  73.42  0.00  8.44  1.64  0.0\n",
       " 212  1.51651  14.38  0.00  1.94  73.61  0.00  8.48  1.57  0.0\n",
       " 213  1.51711  14.23  0.00  2.08  73.36  0.00  8.62  1.67  0.0\n",
       " \n",
       " [214 rows x 9 columns],\n",
       "      Type\n",
       " 0       1\n",
       " 1       1\n",
       " 2       1\n",
       " 3       1\n",
       " 4       1\n",
       " ..    ...\n",
       " 209     7\n",
       " 210     7\n",
       " 211     7\n",
       " 212     7\n",
       " 213     7\n",
       " \n",
       " [214 rows x 1 columns])"
      ]
     },
     "execution_count": 3,
     "metadata": {},
     "output_type": "execute_result"
    }
   ],
   "source": [
    "x = df.iloc[:,1:10]\n",
    "y = df.iloc[:,-1:]\n",
    "x , y"
   ]
  },
  {
   "cell_type": "code",
   "execution_count": 4,
   "id": "f08b6b8f",
   "metadata": {},
   "outputs": [],
   "source": [
    "x_train, x_test, y_train, y_test = model_selection.train_test_split(x, y, test_size=0.3,random_state=3)"
   ]
  },
  {
   "cell_type": "code",
   "execution_count": 5,
   "id": "ab2c5c47",
   "metadata": {},
   "outputs": [
    {
     "data": {
      "text/plain": [
       "(          Ri     Na    Mg    Al     Si     K     Ca    Ba    Fe\n",
       " 30   1.51768  12.65  3.56  1.30  73.08  0.61   8.69  0.00  0.14\n",
       " 74   1.51596  13.02  3.56  1.54  73.11  0.72   7.90  0.00  0.00\n",
       " 102  1.51820  12.62  2.76  0.83  73.81  0.35   9.42  0.00  0.20\n",
       " 88   1.51618  13.01  3.50  1.48  72.89  0.60   8.12  0.00  0.00\n",
       " 86   1.51569  13.24  3.49  1.47  73.25  0.38   8.03  0.00  0.00\n",
       " ..       ...    ...   ...   ...    ...   ...    ...   ...   ...\n",
       " 200  1.51508  15.15  0.00  2.25  73.50  0.00   8.34  0.63  0.00\n",
       " 184  1.51115  17.38  0.00  0.34  75.41  0.00   6.65  0.00  0.00\n",
       " 131  1.52614  13.70  0.00  1.36  71.24  0.19  13.44  0.00  0.10\n",
       " 152  1.51779  13.64  3.65  0.65  73.00  0.06   8.93  0.00  0.00\n",
       " 106  1.53125  10.73  0.00  2.10  69.81  0.58  13.30  3.15  0.28\n",
       " \n",
       " [149 rows x 9 columns],\n",
       "      Type\n",
       " 30      1\n",
       " 74      2\n",
       " 102     2\n",
       " 88      2\n",
       " 86      2\n",
       " ..    ...\n",
       " 200     7\n",
       " 184     6\n",
       " 131     2\n",
       " 152     3\n",
       " 106     2\n",
       " \n",
       " [149 rows x 1 columns])"
      ]
     },
     "execution_count": 5,
     "metadata": {},
     "output_type": "execute_result"
    }
   ],
   "source": [
    "x_train,y_train"
   ]
  },
  {
   "cell_type": "code",
   "execution_count": 6,
   "id": "a1b24d5b",
   "metadata": {},
   "outputs": [
    {
     "data": {
      "text/plain": [
       "((149, 9), (149, 1))"
      ]
     },
     "execution_count": 6,
     "metadata": {},
     "output_type": "execute_result"
    }
   ],
   "source": [
    "x_train.shape, y_train.shape"
   ]
  },
  {
   "cell_type": "code",
   "execution_count": 7,
   "id": "e4635958",
   "metadata": {},
   "outputs": [],
   "source": [
    "from sklearn.discriminant_analysis import LinearDiscriminantAnalysis\n",
    "from sklearn.linear_model import LogisticRegression"
   ]
  },
  {
   "cell_type": "code",
   "execution_count": 8,
   "id": "7d9e5270",
   "metadata": {},
   "outputs": [
    {
     "data": {
      "text/plain": [
       "(          Ri     Na    Mg    Al     Si     K     Ca    Ba    Fe\n",
       " 30   1.51768  12.65  3.56  1.30  73.08  0.61   8.69  0.00  0.14\n",
       " 74   1.51596  13.02  3.56  1.54  73.11  0.72   7.90  0.00  0.00\n",
       " 102  1.51820  12.62  2.76  0.83  73.81  0.35   9.42  0.00  0.20\n",
       " 88   1.51618  13.01  3.50  1.48  72.89  0.60   8.12  0.00  0.00\n",
       " 86   1.51569  13.24  3.49  1.47  73.25  0.38   8.03  0.00  0.00\n",
       " ..       ...    ...   ...   ...    ...   ...    ...   ...   ...\n",
       " 200  1.51508  15.15  0.00  2.25  73.50  0.00   8.34  0.63  0.00\n",
       " 184  1.51115  17.38  0.00  0.34  75.41  0.00   6.65  0.00  0.00\n",
       " 131  1.52614  13.70  0.00  1.36  71.24  0.19  13.44  0.00  0.10\n",
       " 152  1.51779  13.64  3.65  0.65  73.00  0.06   8.93  0.00  0.00\n",
       " 106  1.53125  10.73  0.00  2.10  69.81  0.58  13.30  3.15  0.28\n",
       " \n",
       " [149 rows x 9 columns],\n",
       "      Type\n",
       " 30      1\n",
       " 74      2\n",
       " 102     2\n",
       " 88      2\n",
       " 86      2\n",
       " ..    ...\n",
       " 200     7\n",
       " 184     6\n",
       " 131     2\n",
       " 152     3\n",
       " 106     2\n",
       " \n",
       " [149 rows x 1 columns])"
      ]
     },
     "execution_count": 8,
     "metadata": {},
     "output_type": "execute_result"
    }
   ],
   "source": [
    "x_train,y_train"
   ]
  },
  {
   "cell_type": "code",
   "execution_count": 9,
   "id": "99b6e251",
   "metadata": {},
   "outputs": [],
   "source": [
    "from sklearn.discriminant_analysis import LinearDiscriminantAnalysis"
   ]
  },
  {
   "cell_type": "markdown",
   "id": "9778f716",
   "metadata": {},
   "source": [
    "                          LINEAR"
   ]
  },
  {
   "cell_type": "code",
   "execution_count": null,
   "id": "f5ebe0dd",
   "metadata": {},
   "outputs": [],
   "source": [
    "clf = LinearDiscriminantAnalysis().fit(x_train,y_train)"
   ]
  },
  {
   "cell_type": "code",
   "execution_count": 11,
   "id": "94ba1eeb",
   "metadata": {},
   "outputs": [],
   "source": [
    "y_pred=clf.predict(x_test)"
   ]
  },
  {
   "cell_type": "code",
   "execution_count": 12,
   "id": "c4434dc7",
   "metadata": {},
   "outputs": [
    {
     "data": {
      "text/plain": [
       "array([1, 1, 7, 6, 2, 7, 7, 2, 1, 7, 2, 2, 2, 1, 5, 6, 2, 7, 2, 2, 7, 7,\n",
       "       5, 1, 3, 2, 7, 2, 1, 6, 1, 2, 5, 1, 1, 1, 2, 2, 6, 1, 7, 1, 1, 1,\n",
       "       7, 1, 1, 1, 7, 2, 1, 2, 1, 1, 2, 7, 1, 1, 1, 1, 2, 2, 1, 6, 1])"
      ]
     },
     "execution_count": 12,
     "metadata": {},
     "output_type": "execute_result"
    }
   ],
   "source": [
    "y_pred"
   ]
  },
  {
   "cell_type": "code",
   "execution_count": 13,
   "id": "642e4e95",
   "metadata": {},
   "outputs": [
    {
     "data": {
      "text/plain": [
       "0.7076923076923077"
      ]
     },
     "execution_count": 13,
     "metadata": {},
     "output_type": "execute_result"
    }
   ],
   "source": [
    "clf.score(x_test, y_test)"
   ]
  },
  {
   "cell_type": "code",
   "execution_count": 14,
   "id": "818fcf12",
   "metadata": {},
   "outputs": [],
   "source": [
    "from sklearn.datasets import load_iris\n",
    "from sklearn.linear_model import LogisticRegression\n",
    "from sklearn.model_selection import train_test_split\n",
    "from sklearn import datasets\n",
    "from sklearn.metrics import classification_report, confusion_matrix\n",
    "from sklearn.discriminant_analysis import QuadraticDiscriminantAnalysis"
   ]
  },
  {
   "cell_type": "code",
   "execution_count": 15,
   "id": "139e091f",
   "metadata": {
    "scrolled": true
   },
   "outputs": [],
   "source": [
    "conf_m = confusion_matrix(y_test, y_pred)"
   ]
  },
  {
   "cell_type": "code",
   "execution_count": 16,
   "id": "850a0080",
   "metadata": {},
   "outputs": [
    {
     "data": {
      "text/plain": [
       "array([[18,  3,  0,  0,  0,  0],\n",
       "       [ 5, 12,  0,  1,  2,  0],\n",
       "       [ 3,  1,  1,  0,  0,  0],\n",
       "       [ 0,  1,  0,  2,  1,  1],\n",
       "       [ 0,  0,  0,  0,  2,  0],\n",
       "       [ 0,  1,  0,  0,  0, 11]])"
      ]
     },
     "execution_count": 16,
     "metadata": {},
     "output_type": "execute_result"
    }
   ],
   "source": [
    "conf_m"
   ]
  },
  {
   "cell_type": "code",
   "execution_count": 17,
   "id": "d9b57bec",
   "metadata": {},
   "outputs": [],
   "source": [
    "report = classification_report(y_test, y_pred)"
   ]
  },
  {
   "cell_type": "code",
   "execution_count": 18,
   "id": "cdc45509",
   "metadata": {},
   "outputs": [
    {
     "name": "stdout",
     "output_type": "stream",
     "text": [
      "report:\n",
      "              precision    recall  f1-score   support\n",
      "\n",
      "           1       0.69      0.86      0.77        21\n",
      "           2       0.67      0.60      0.63        20\n",
      "           3       1.00      0.20      0.33         5\n",
      "           5       0.67      0.40      0.50         5\n",
      "           6       0.40      1.00      0.57         2\n",
      "           7       0.92      0.92      0.92        12\n",
      "\n",
      "    accuracy                           0.71        65\n",
      "   macro avg       0.72      0.66      0.62        65\n",
      "weighted avg       0.74      0.71      0.69        65\n",
      "\n"
     ]
    }
   ],
   "source": [
    "print('report:', report, sep='\\n')"
   ]
  },
  {
   "cell_type": "markdown",
   "id": "8a037a3b",
   "metadata": {},
   "source": [
    "                         QUADRATIC"
   ]
  },
  {
   "cell_type": "code",
   "execution_count": 19,
   "id": "50d45275",
   "metadata": {},
   "outputs": [
    {
     "data": {
      "text/plain": [
       "(          Ri     Na    Mg    Al     Si     K     Ca    Ba    Fe\n",
       " 30   1.51768  12.65  3.56  1.30  73.08  0.61   8.69  0.00  0.14\n",
       " 74   1.51596  13.02  3.56  1.54  73.11  0.72   7.90  0.00  0.00\n",
       " 102  1.51820  12.62  2.76  0.83  73.81  0.35   9.42  0.00  0.20\n",
       " 88   1.51618  13.01  3.50  1.48  72.89  0.60   8.12  0.00  0.00\n",
       " 86   1.51569  13.24  3.49  1.47  73.25  0.38   8.03  0.00  0.00\n",
       " ..       ...    ...   ...   ...    ...   ...    ...   ...   ...\n",
       " 200  1.51508  15.15  0.00  2.25  73.50  0.00   8.34  0.63  0.00\n",
       " 184  1.51115  17.38  0.00  0.34  75.41  0.00   6.65  0.00  0.00\n",
       " 131  1.52614  13.70  0.00  1.36  71.24  0.19  13.44  0.00  0.10\n",
       " 152  1.51779  13.64  3.65  0.65  73.00  0.06   8.93  0.00  0.00\n",
       " 106  1.53125  10.73  0.00  2.10  69.81  0.58  13.30  3.15  0.28\n",
       " \n",
       " [149 rows x 9 columns],\n",
       "      Type\n",
       " 30      1\n",
       " 74      2\n",
       " 102     2\n",
       " 88      2\n",
       " 86      2\n",
       " ..    ...\n",
       " 200     7\n",
       " 184     6\n",
       " 131     2\n",
       " 152     3\n",
       " 106     2\n",
       " \n",
       " [149 rows x 1 columns])"
      ]
     },
     "execution_count": 19,
     "metadata": {},
     "output_type": "execute_result"
    }
   ],
   "source": [
    "x_train,y_train"
   ]
  },
  {
   "cell_type": "code",
   "execution_count": null,
   "id": "960b5bfe",
   "metadata": {
    "scrolled": true
   },
   "outputs": [],
   "source": [
    "clf = QuadraticDiscriminantAnalysis().fit(x_train,y_train)"
   ]
  },
  {
   "cell_type": "code",
   "execution_count": 21,
   "id": "24948b8e",
   "metadata": {},
   "outputs": [],
   "source": [
    "y_pred=clf.predict(x_test) "
   ]
  },
  {
   "cell_type": "code",
   "execution_count": 22,
   "id": "a21a48b9",
   "metadata": {},
   "outputs": [
    {
     "data": {
      "text/plain": [
       "0.5846153846153846"
      ]
     },
     "execution_count": 22,
     "metadata": {},
     "output_type": "execute_result"
    }
   ],
   "source": [
    "clf.score(x_test, y_test) "
   ]
  },
  {
   "cell_type": "code",
   "execution_count": 23,
   "id": "be0aa056",
   "metadata": {},
   "outputs": [],
   "source": [
    "conf_m = confusion_matrix(y_test, y_pred)"
   ]
  },
  {
   "cell_type": "code",
   "execution_count": 24,
   "id": "7cea387b",
   "metadata": {},
   "outputs": [
    {
     "data": {
      "text/plain": [
       "array([[20,  1,  0,  0,  0,  0],\n",
       "       [12,  6,  1,  0,  1,  0],\n",
       "       [ 3,  1,  1,  0,  0,  0],\n",
       "       [ 0,  4,  0,  0,  0,  1],\n",
       "       [ 0,  1,  0,  0,  0,  1],\n",
       "       [ 1,  0,  0,  0,  0, 11]])"
      ]
     },
     "execution_count": 24,
     "metadata": {},
     "output_type": "execute_result"
    }
   ],
   "source": [
    "conf_m"
   ]
  },
  {
   "cell_type": "code",
   "execution_count": null,
   "id": "b1f36fb1",
   "metadata": {
    "scrolled": true
   },
   "outputs": [],
   "source": [
    "report = classification_report(y_test, y_pred)"
   ]
  },
  {
   "cell_type": "code",
   "execution_count": 26,
   "id": "906a3bc7",
   "metadata": {},
   "outputs": [
    {
     "name": "stdout",
     "output_type": "stream",
     "text": [
      "report:\n",
      "              precision    recall  f1-score   support\n",
      "\n",
      "           1       0.56      0.95      0.70        21\n",
      "           2       0.46      0.30      0.36        20\n",
      "           3       0.50      0.20      0.29         5\n",
      "           5       0.00      0.00      0.00         5\n",
      "           6       0.00      0.00      0.00         2\n",
      "           7       0.85      0.92      0.88        12\n",
      "\n",
      "    accuracy                           0.58        65\n",
      "   macro avg       0.39      0.39      0.37        65\n",
      "weighted avg       0.52      0.58      0.52        65\n",
      "\n"
     ]
    }
   ],
   "source": [
    "print('report:', report, sep='\\n')"
   ]
  }
 ],
 "metadata": {
  "kernelspec": {
   "display_name": "Python 3 (ipykernel)",
   "language": "python",
   "name": "python3"
  },
  "language_info": {
   "codemirror_mode": {
    "name": "ipython",
    "version": 3
   },
   "file_extension": ".py",
   "mimetype": "text/x-python",
   "name": "python",
   "nbconvert_exporter": "python",
   "pygments_lexer": "ipython3",
   "version": "3.9.13"
  }
 },
 "nbformat": 4,
 "nbformat_minor": 5
}
