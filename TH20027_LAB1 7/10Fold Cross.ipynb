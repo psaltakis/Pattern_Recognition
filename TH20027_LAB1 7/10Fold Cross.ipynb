{
 "cells": [
  {
   "cell_type": "markdown",
   "id": "355c95ab",
   "metadata": {},
   "source": [
    "PSALTAKIS GEORGIOS TH20027 EXERCISE 1 PATTERN RECOGNITION"
   ]
  },
  {
   "cell_type": "markdown",
   "id": "e6dbca4a",
   "metadata": {},
   "source": [
    "Question 7-8"
   ]
  },
  {
   "cell_type": "code",
   "execution_count": 1,
   "id": "822d93c5",
   "metadata": {},
   "outputs": [],
   "source": [
    "import numpy as np \n",
    "import pandas as pd \n",
    "import matplotlib.pyplot as plt\n",
    "from sklearn import datasets, preprocessing\n",
    "from sklearn.model_selection import train_test_split\n",
    "from sklearn.model_selection import cross_val_score\n",
    "from sklearn import svm\n",
    "from sklearn import preprocessing, model_selection, neighbors, discriminant_analysis\n",
    "from sklearn.discriminant_analysis import LinearDiscriminantAnalysis\n",
    "from sklearn.discriminant_analysis import QuadraticDiscriminantAnalysis\n",
    "from sklearn import datasets, linear_model\n",
    "from sklearn.model_selection import train_test_split\n",
    "from matplotlib import pyplot as plt\n",
    "from sklearn.model_selection import KFold\n"
   ]
  },
  {
   "cell_type": "code",
   "execution_count": 2,
   "id": "965b029c",
   "metadata": {},
   "outputs": [
    {
     "data": {
      "text/html": [
       "<div>\n",
       "<style scoped>\n",
       "    .dataframe tbody tr th:only-of-type {\n",
       "        vertical-align: middle;\n",
       "    }\n",
       "\n",
       "    .dataframe tbody tr th {\n",
       "        vertical-align: top;\n",
       "    }\n",
       "\n",
       "    .dataframe thead th {\n",
       "        text-align: right;\n",
       "    }\n",
       "</style>\n",
       "<table border=\"1\" class=\"dataframe\">\n",
       "  <thead>\n",
       "    <tr style=\"text-align: right;\">\n",
       "      <th></th>\n",
       "      <th>Id</th>\n",
       "      <th>Ri</th>\n",
       "      <th>Na</th>\n",
       "      <th>Mg</th>\n",
       "      <th>Al</th>\n",
       "      <th>Si</th>\n",
       "      <th>K</th>\n",
       "      <th>Ca</th>\n",
       "      <th>Ba</th>\n",
       "      <th>Fe</th>\n",
       "      <th>Type</th>\n",
       "    </tr>\n",
       "  </thead>\n",
       "  <tbody>\n",
       "    <tr>\n",
       "      <th>0</th>\n",
       "      <td>1</td>\n",
       "      <td>1.52101</td>\n",
       "      <td>13.64</td>\n",
       "      <td>4.49</td>\n",
       "      <td>1.10</td>\n",
       "      <td>71.78</td>\n",
       "      <td>0.06</td>\n",
       "      <td>8.75</td>\n",
       "      <td>0.00</td>\n",
       "      <td>0.0</td>\n",
       "      <td>1</td>\n",
       "    </tr>\n",
       "    <tr>\n",
       "      <th>1</th>\n",
       "      <td>2</td>\n",
       "      <td>1.51761</td>\n",
       "      <td>13.89</td>\n",
       "      <td>3.60</td>\n",
       "      <td>1.36</td>\n",
       "      <td>72.73</td>\n",
       "      <td>0.48</td>\n",
       "      <td>7.83</td>\n",
       "      <td>0.00</td>\n",
       "      <td>0.0</td>\n",
       "      <td>1</td>\n",
       "    </tr>\n",
       "    <tr>\n",
       "      <th>2</th>\n",
       "      <td>3</td>\n",
       "      <td>1.51618</td>\n",
       "      <td>13.53</td>\n",
       "      <td>3.55</td>\n",
       "      <td>1.54</td>\n",
       "      <td>72.99</td>\n",
       "      <td>0.39</td>\n",
       "      <td>7.78</td>\n",
       "      <td>0.00</td>\n",
       "      <td>0.0</td>\n",
       "      <td>1</td>\n",
       "    </tr>\n",
       "    <tr>\n",
       "      <th>3</th>\n",
       "      <td>4</td>\n",
       "      <td>1.51766</td>\n",
       "      <td>13.21</td>\n",
       "      <td>3.69</td>\n",
       "      <td>1.29</td>\n",
       "      <td>72.61</td>\n",
       "      <td>0.57</td>\n",
       "      <td>8.22</td>\n",
       "      <td>0.00</td>\n",
       "      <td>0.0</td>\n",
       "      <td>1</td>\n",
       "    </tr>\n",
       "    <tr>\n",
       "      <th>4</th>\n",
       "      <td>5</td>\n",
       "      <td>1.51742</td>\n",
       "      <td>13.27</td>\n",
       "      <td>3.62</td>\n",
       "      <td>1.24</td>\n",
       "      <td>73.08</td>\n",
       "      <td>0.55</td>\n",
       "      <td>8.07</td>\n",
       "      <td>0.00</td>\n",
       "      <td>0.0</td>\n",
       "      <td>1</td>\n",
       "    </tr>\n",
       "    <tr>\n",
       "      <th>...</th>\n",
       "      <td>...</td>\n",
       "      <td>...</td>\n",
       "      <td>...</td>\n",
       "      <td>...</td>\n",
       "      <td>...</td>\n",
       "      <td>...</td>\n",
       "      <td>...</td>\n",
       "      <td>...</td>\n",
       "      <td>...</td>\n",
       "      <td>...</td>\n",
       "      <td>...</td>\n",
       "    </tr>\n",
       "    <tr>\n",
       "      <th>209</th>\n",
       "      <td>210</td>\n",
       "      <td>1.51623</td>\n",
       "      <td>14.14</td>\n",
       "      <td>0.00</td>\n",
       "      <td>2.88</td>\n",
       "      <td>72.61</td>\n",
       "      <td>0.08</td>\n",
       "      <td>9.18</td>\n",
       "      <td>1.06</td>\n",
       "      <td>0.0</td>\n",
       "      <td>7</td>\n",
       "    </tr>\n",
       "    <tr>\n",
       "      <th>210</th>\n",
       "      <td>211</td>\n",
       "      <td>1.51685</td>\n",
       "      <td>14.92</td>\n",
       "      <td>0.00</td>\n",
       "      <td>1.99</td>\n",
       "      <td>73.06</td>\n",
       "      <td>0.00</td>\n",
       "      <td>8.40</td>\n",
       "      <td>1.59</td>\n",
       "      <td>0.0</td>\n",
       "      <td>7</td>\n",
       "    </tr>\n",
       "    <tr>\n",
       "      <th>211</th>\n",
       "      <td>212</td>\n",
       "      <td>1.52065</td>\n",
       "      <td>14.36</td>\n",
       "      <td>0.00</td>\n",
       "      <td>2.02</td>\n",
       "      <td>73.42</td>\n",
       "      <td>0.00</td>\n",
       "      <td>8.44</td>\n",
       "      <td>1.64</td>\n",
       "      <td>0.0</td>\n",
       "      <td>7</td>\n",
       "    </tr>\n",
       "    <tr>\n",
       "      <th>212</th>\n",
       "      <td>213</td>\n",
       "      <td>1.51651</td>\n",
       "      <td>14.38</td>\n",
       "      <td>0.00</td>\n",
       "      <td>1.94</td>\n",
       "      <td>73.61</td>\n",
       "      <td>0.00</td>\n",
       "      <td>8.48</td>\n",
       "      <td>1.57</td>\n",
       "      <td>0.0</td>\n",
       "      <td>7</td>\n",
       "    </tr>\n",
       "    <tr>\n",
       "      <th>213</th>\n",
       "      <td>214</td>\n",
       "      <td>1.51711</td>\n",
       "      <td>14.23</td>\n",
       "      <td>0.00</td>\n",
       "      <td>2.08</td>\n",
       "      <td>73.36</td>\n",
       "      <td>0.00</td>\n",
       "      <td>8.62</td>\n",
       "      <td>1.67</td>\n",
       "      <td>0.0</td>\n",
       "      <td>7</td>\n",
       "    </tr>\n",
       "  </tbody>\n",
       "</table>\n",
       "<p>214 rows × 11 columns</p>\n",
       "</div>"
      ],
      "text/plain": [
       "      Id       Ri     Na    Mg    Al     Si     K    Ca    Ba   Fe  Type\n",
       "0      1  1.52101  13.64  4.49  1.10  71.78  0.06  8.75  0.00  0.0     1\n",
       "1      2  1.51761  13.89  3.60  1.36  72.73  0.48  7.83  0.00  0.0     1\n",
       "2      3  1.51618  13.53  3.55  1.54  72.99  0.39  7.78  0.00  0.0     1\n",
       "3      4  1.51766  13.21  3.69  1.29  72.61  0.57  8.22  0.00  0.0     1\n",
       "4      5  1.51742  13.27  3.62  1.24  73.08  0.55  8.07  0.00  0.0     1\n",
       "..   ...      ...    ...   ...   ...    ...   ...   ...   ...  ...   ...\n",
       "209  210  1.51623  14.14  0.00  2.88  72.61  0.08  9.18  1.06  0.0     7\n",
       "210  211  1.51685  14.92  0.00  1.99  73.06  0.00  8.40  1.59  0.0     7\n",
       "211  212  1.52065  14.36  0.00  2.02  73.42  0.00  8.44  1.64  0.0     7\n",
       "212  213  1.51651  14.38  0.00  1.94  73.61  0.00  8.48  1.57  0.0     7\n",
       "213  214  1.51711  14.23  0.00  2.08  73.36  0.00  8.62  1.67  0.0     7\n",
       "\n",
       "[214 rows x 11 columns]"
      ]
     },
     "execution_count": 2,
     "metadata": {},
     "output_type": "execute_result"
    }
   ],
   "source": [
    "file = (\"glass.data\")\n",
    "df = pd.read_csv(file,delim_whitespace=False, header=None)\n",
    "columns = [\"Id\", \"Ri\", \"Na\", \"Mg\", \"Al\", \"Si\", \"K\", \"Ca\", \"Ba\", \"Fe\", \"Type\"]\n",
    "df.columns = columns \n",
    "df"
   ]
  },
  {
   "cell_type": "code",
   "execution_count": 3,
   "id": "99700f4a",
   "metadata": {},
   "outputs": [
    {
     "data": {
      "text/plain": [
       "(          Ri     Na    Mg    Al     Si     K    Ca    Ba   Fe\n",
       " 0    1.52101  13.64  4.49  1.10  71.78  0.06  8.75  0.00  0.0\n",
       " 1    1.51761  13.89  3.60  1.36  72.73  0.48  7.83  0.00  0.0\n",
       " 2    1.51618  13.53  3.55  1.54  72.99  0.39  7.78  0.00  0.0\n",
       " 3    1.51766  13.21  3.69  1.29  72.61  0.57  8.22  0.00  0.0\n",
       " 4    1.51742  13.27  3.62  1.24  73.08  0.55  8.07  0.00  0.0\n",
       " ..       ...    ...   ...   ...    ...   ...   ...   ...  ...\n",
       " 209  1.51623  14.14  0.00  2.88  72.61  0.08  9.18  1.06  0.0\n",
       " 210  1.51685  14.92  0.00  1.99  73.06  0.00  8.40  1.59  0.0\n",
       " 211  1.52065  14.36  0.00  2.02  73.42  0.00  8.44  1.64  0.0\n",
       " 212  1.51651  14.38  0.00  1.94  73.61  0.00  8.48  1.57  0.0\n",
       " 213  1.51711  14.23  0.00  2.08  73.36  0.00  8.62  1.67  0.0\n",
       " \n",
       " [214 rows x 9 columns],\n",
       "      Type\n",
       " 0       1\n",
       " 1       1\n",
       " 2       1\n",
       " 3       1\n",
       " 4       1\n",
       " ..    ...\n",
       " 209     7\n",
       " 210     7\n",
       " 211     7\n",
       " 212     7\n",
       " 213     7\n",
       " \n",
       " [214 rows x 1 columns])"
      ]
     },
     "execution_count": 3,
     "metadata": {},
     "output_type": "execute_result"
    }
   ],
   "source": [
    "x = df.iloc[:,1:10]\n",
    "y = df.iloc[:,-1:]\n",
    "x , y"
   ]
  },
  {
   "cell_type": "code",
   "execution_count": 4,
   "id": "f08b6b8f",
   "metadata": {},
   "outputs": [],
   "source": [
    "x_train, x_test, y_train, y_test = model_selection.train_test_split(x, y, test_size=0.6,random_state=1)"
   ]
  },
  {
   "cell_type": "code",
   "execution_count": 5,
   "id": "ab2c5c47",
   "metadata": {},
   "outputs": [
    {
     "data": {
      "text/plain": [
       "(          Ri     Na    Mg    Al     Si     K     Ca    Ba    Fe\n",
       " 180  1.51299  14.40  1.74  1.54  74.55  0.00   7.59  0.00  0.00\n",
       " 167  1.51969  12.64  0.00  1.65  73.75  0.38  11.53  0.00  0.00\n",
       " 77   1.51627  13.00  3.58  1.54  72.83  0.61   8.04  0.00  0.00\n",
       " 113  1.51892  13.46  3.83  1.26  72.55  0.57   8.21  0.00  0.14\n",
       " 65   1.52099  13.69  3.59  1.12  71.96  0.09   9.40  0.00  0.00\n",
       " ..       ...    ...   ...   ...    ...   ...    ...   ...   ...\n",
       " 203  1.51658  14.80  0.00  1.99  73.11  0.00   8.28  1.71  0.00\n",
       " 137  1.51711  12.89  3.62  1.57  72.96  0.61   8.11  0.00  0.00\n",
       " 72   1.51593  13.09  3.59  1.52  73.10  0.67   7.83  0.00  0.00\n",
       " 140  1.51690  13.33  3.54  1.61  72.54  0.68   8.11  0.00  0.00\n",
       " 37   1.51797  12.74  3.48  1.35  72.96  0.64   8.68  0.00  0.00\n",
       " \n",
       " [85 rows x 9 columns],\n",
       "      Type\n",
       " 180     6\n",
       " 167     5\n",
       " 77      2\n",
       " 113     2\n",
       " 65      1\n",
       " ..    ...\n",
       " 203     7\n",
       " 137     2\n",
       " 72      2\n",
       " 140     2\n",
       " 37      1\n",
       " \n",
       " [85 rows x 1 columns])"
      ]
     },
     "execution_count": 5,
     "metadata": {},
     "output_type": "execute_result"
    }
   ],
   "source": [
    "x_train,y_train"
   ]
  },
  {
   "cell_type": "code",
   "execution_count": 6,
   "id": "a1b24d5b",
   "metadata": {},
   "outputs": [
    {
     "data": {
      "text/plain": [
       "((85, 9), (85, 1))"
      ]
     },
     "execution_count": 6,
     "metadata": {},
     "output_type": "execute_result"
    }
   ],
   "source": [
    "x_train.shape, y_train.shape"
   ]
  },
  {
   "cell_type": "code",
   "execution_count": 7,
   "id": "e4635958",
   "metadata": {},
   "outputs": [],
   "source": [
    "from sklearn.discriminant_analysis import LinearDiscriminantAnalysis\n",
    "from sklearn.linear_model import LogisticRegression"
   ]
  },
  {
   "cell_type": "code",
   "execution_count": 8,
   "id": "7d9e5270",
   "metadata": {},
   "outputs": [
    {
     "data": {
      "text/plain": [
       "(          Ri     Na    Mg    Al     Si     K     Ca    Ba    Fe\n",
       " 180  1.51299  14.40  1.74  1.54  74.55  0.00   7.59  0.00  0.00\n",
       " 167  1.51969  12.64  0.00  1.65  73.75  0.38  11.53  0.00  0.00\n",
       " 77   1.51627  13.00  3.58  1.54  72.83  0.61   8.04  0.00  0.00\n",
       " 113  1.51892  13.46  3.83  1.26  72.55  0.57   8.21  0.00  0.14\n",
       " 65   1.52099  13.69  3.59  1.12  71.96  0.09   9.40  0.00  0.00\n",
       " ..       ...    ...   ...   ...    ...   ...    ...   ...   ...\n",
       " 203  1.51658  14.80  0.00  1.99  73.11  0.00   8.28  1.71  0.00\n",
       " 137  1.51711  12.89  3.62  1.57  72.96  0.61   8.11  0.00  0.00\n",
       " 72   1.51593  13.09  3.59  1.52  73.10  0.67   7.83  0.00  0.00\n",
       " 140  1.51690  13.33  3.54  1.61  72.54  0.68   8.11  0.00  0.00\n",
       " 37   1.51797  12.74  3.48  1.35  72.96  0.64   8.68  0.00  0.00\n",
       " \n",
       " [85 rows x 9 columns],\n",
       "      Type\n",
       " 180     6\n",
       " 167     5\n",
       " 77      2\n",
       " 113     2\n",
       " 65      1\n",
       " ..    ...\n",
       " 203     7\n",
       " 137     2\n",
       " 72      2\n",
       " 140     2\n",
       " 37      1\n",
       " \n",
       " [85 rows x 1 columns])"
      ]
     },
     "execution_count": 8,
     "metadata": {},
     "output_type": "execute_result"
    }
   ],
   "source": [
    "x_train,y_train"
   ]
  },
  {
   "cell_type": "code",
   "execution_count": 9,
   "id": "99b6e251",
   "metadata": {},
   "outputs": [],
   "source": [
    "from sklearn.discriminant_analysis import LinearDiscriminantAnalysis"
   ]
  },
  {
   "cell_type": "markdown",
   "id": "feb8ec9b",
   "metadata": {},
   "source": [
    "                          LINEAR"
   ]
  },
  {
   "cell_type": "code",
   "execution_count": 35,
   "id": "f5ebe0dd",
   "metadata": {},
   "outputs": [],
   "source": [
    "clf = LinearDiscriminantAnalysis()"
   ]
  },
  {
   "cell_type": "code",
   "execution_count": null,
   "id": "7d24be7d",
   "metadata": {
    "scrolled": true
   },
   "outputs": [],
   "source": [
    "scores = cross_val_score(clf,x_train,y_train,cv=10, scoring='accuracy')"
   ]
  },
  {
   "cell_type": "code",
   "execution_count": 37,
   "id": "981a763a",
   "metadata": {
    "scrolled": false
   },
   "outputs": [
    {
     "data": {
      "text/plain": [
       "array([0.55555556, 0.55555556, 0.55555556, 0.44444444, 0.77777778,\n",
       "       0.25      , 0.75      , 0.5       , 0.625     , 0.75      ])"
      ]
     },
     "execution_count": 37,
     "metadata": {},
     "output_type": "execute_result"
    }
   ],
   "source": [
    "scores"
   ]
  },
  {
   "cell_type": "code",
   "execution_count": 38,
   "id": "1ea9286e",
   "metadata": {},
   "outputs": [],
   "source": [
    "from sklearn.model_selection import train_test_split\n",
    "from sklearn.model_selection import KFold\n",
    "from sklearn.model_selection import cross_val_score\n",
    "from sklearn.linear_model import LinearRegression\n",
    "from numpy import mean\n",
    "from numpy import absolute\n",
    "from numpy import sqrt\n",
    "import pandas as pd"
   ]
  },
  {
   "cell_type": "code",
   "execution_count": 39,
   "id": "34d30878",
   "metadata": {},
   "outputs": [
    {
     "data": {
      "text/plain": [
       "0.759202798262025"
      ]
     },
     "execution_count": 39,
     "metadata": {},
     "output_type": "execute_result"
    }
   ],
   "source": [
    "sqrt(mean(absolute(scores)))\n"
   ]
  },
  {
   "cell_type": "markdown",
   "id": "4f743528",
   "metadata": {},
   "source": [
    "                         QUADRATIC"
   ]
  },
  {
   "cell_type": "code",
   "execution_count": 40,
   "id": "3fdc0a20",
   "metadata": {},
   "outputs": [],
   "source": [
    "clf = QuadraticDiscriminantAnalysis()"
   ]
  },
  {
   "cell_type": "code",
   "execution_count": null,
   "id": "c951e5d7",
   "metadata": {
    "scrolled": true
   },
   "outputs": [],
   "source": [
    "scores = cross_val_score(clf,x_train,y_train,cv=10,scoring='accuracy')"
   ]
  },
  {
   "cell_type": "code",
   "execution_count": 42,
   "id": "941d8835",
   "metadata": {},
   "outputs": [
    {
     "data": {
      "text/plain": [
       "array([0.33333333, 0.66666667, 0.66666667, 0.55555556, 0.33333333,\n",
       "       0.25      , 0.125     , 0.5       , 0.625     , 0.375     ])"
      ]
     },
     "execution_count": 42,
     "metadata": {},
     "output_type": "execute_result"
    }
   ],
   "source": [
    "scores"
   ]
  },
  {
   "cell_type": "code",
   "execution_count": 43,
   "id": "098afbfd",
   "metadata": {},
   "outputs": [
    {
     "data": {
      "text/plain": [
       "0.6656241849238619"
      ]
     },
     "execution_count": 43,
     "metadata": {},
     "output_type": "execute_result"
    }
   ],
   "source": [
    "sqrt(mean(absolute(scores)))"
   ]
  },
  {
   "cell_type": "markdown",
   "id": "02587a1f",
   "metadata": {},
   "source": [
    "The quadratic value is closer to zero than the linear so is therefore the Quadratic classifier is better even at the 10fold"
   ]
  }
 ],
 "metadata": {
  "kernelspec": {
   "display_name": "Python 3 (ipykernel)",
   "language": "python",
   "name": "python3"
  },
  "language_info": {
   "codemirror_mode": {
    "name": "ipython",
    "version": 3
   },
   "file_extension": ".py",
   "mimetype": "text/x-python",
   "name": "python",
   "nbconvert_exporter": "python",
   "pygments_lexer": "ipython3",
   "version": "3.9.13"
  }
 },
 "nbformat": 4,
 "nbformat_minor": 5
}
